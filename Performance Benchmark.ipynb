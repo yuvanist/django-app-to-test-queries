{
 "cells": [
  {
   "cell_type": "code",
   "execution_count": 1,
   "id": "876fe338",
   "metadata": {},
   "outputs": [],
   "source": [
    "import os\n",
    "os.environ[\"DJANGO_ALLOW_ASYNC_UNSAFE\"] = \"true\"\n",
    "import django\n",
    "django.setup()"
   ]
  },
  {
   "cell_type": "code",
   "execution_count": 2,
   "id": "23d0c746",
   "metadata": {},
   "outputs": [],
   "source": [
    "from performance_benchmark.models import Benchmark\n",
    "from django.utils import timezone\n",
    "from uuid import uuid4\n",
    "from random import randint, randrange, choice\n",
    "from datetime import datetime, timedelta, timezone\n",
    "from string import ascii_lowercase, ascii_letters\n",
    "from django.db.models import Count, Q, F"
   ]
  },
  {
   "cell_type": "code",
   "execution_count": 3,
   "id": "95463cb4",
   "metadata": {},
   "outputs": [],
   "source": [
    "def get_random_date():\n",
    "    step = timedelta(days=1)\n",
    "    start = datetime(2020, 1, 1)\n",
    "    end = datetime.now()\n",
    "    random_date = start + randrange((end - start) // step + 1) * step\n",
    "    return random_date"
   ]
  },
  {
   "cell_type": "code",
   "execution_count": 4,
   "id": "a7e805e6",
   "metadata": {},
   "outputs": [],
   "source": [
    "def get_random_email():\n",
    "    return \"\".join(choice(ascii_lowercase) for _ in range(randint(8,15))) + '@joey.com'\n",
    "def get_random_string():\n",
    "    return \"\".join(choice(ascii_letters) for _ in range(randint(8,15)))"
   ]
  },
  {
   "cell_type": "code",
   "execution_count": 114,
   "id": "6f89cd9c",
   "metadata": {},
   "outputs": [
    {
     "name": "stdout",
     "output_type": "stream",
     "text": [
      "558 ms ± 36.5 ms per loop (mean ± std. dev. of 7 runs, 1 loop each)\n"
     ]
    }
   ],
   "source": [
    "benchmark_objects = []\n",
    "for i in range(25):\n",
    "    db_random_iteration = randint(5, 25)\n",
    "    client_id = randint(1, 4)\n",
    "    databook_id = uuid4()\n",
    "    for j in range(db_random_iteration):\n",
    "        knowledge_begin_date = get_random_date()\n",
    "        ds_random_iteration = randint(5, 25)\n",
    "        datasheet_id = uuid4()\n",
    "        for k in range(ds_random_iteration):\n",
    "            benchmar_obj = Benchmark(\n",
    "                knowledge_begin_date=knowledge_begin_date,\n",
    "                client_id=client_id,\n",
    "                databook_id=databook_id,\n",
    "                datasheet_id=datasheet_id,\n",
    "                data={\n",
    "                    \"amount\": randint(-500, 501),\n",
    "                    \"email\": get_random_email(),\n",
    "                    \"name\": get_random_string(),\n",
    "                    \"address\": get_random_string(),\n",
    "                },\n",
    "            )\n",
    "            benchmark_objects.append(benchmar_obj)\n",
    "# Benchmark.objects.bulk_create(benchmark_objects, batch_size=None, ignore_conflicts=False)"
   ]
  },
  {
   "cell_type": "code",
   "execution_count": 5,
   "id": "fd8325ec",
   "metadata": {},
   "outputs": [],
   "source": [
    "import time\n",
    "import math\n",
    "def calculate_time(func):\n",
    "    def inner1(*args, **kwargs):\n",
    "        begin = time.time()         \n",
    "        func(*args, **kwargs)\n",
    "        end = time.time()\n",
    "        print(\"Total time taken in seconds : \", func.__name__, end - begin)\n",
    "    return inner1\n",
    " "
   ]
  },
  {
   "cell_type": "markdown",
   "id": "63009b69",
   "metadata": {},
   "source": [
    "## Difference between only, defer, values and values_list\n",
    "### Objective is to fetch distinct databook_ids from the entire table."
   ]
  },
  {
   "cell_type": "markdown",
   "id": "297bf4e9",
   "metadata": {},
   "source": [
    "### Only -  Takes only that column value, but allows you to query other things as well(Does extra query)"
   ]
  },
  {
   "cell_type": "code",
   "execution_count": 6,
   "id": "33921643",
   "metadata": {},
   "outputs": [
    {
     "name": "stdout",
     "output_type": "stream",
     "text": [
      "{'amount': 10}\n",
      "Time Taken: 23.780166149139404 seconds\n"
     ]
    }
   ],
   "source": [
    "start_time = time.time()\n",
    "\n",
    "benchmark_objects = Benchmark.objects.only('databook_id')\n",
    "\n",
    "unique_databook_ids = set()\n",
    "for each_object in benchmark_objects:\n",
    "    unique_databook_ids.add(each_object.databook_id)\n",
    "    \n",
    "print(benchmark_objects[0].data)\n",
    "\n",
    "print('Time Taken: '+ str(time.time() - start_time) + ' seconds')"
   ]
  },
  {
   "cell_type": "markdown",
   "id": "0df4881b",
   "metadata": {},
   "source": [
    "### Defer -  Takes all Columns except the defered, but allows you to query that thing as well(Does extra query)"
   ]
  },
  {
   "cell_type": "code",
   "execution_count": 7,
   "id": "af6c61fc",
   "metadata": {},
   "outputs": [
    {
     "name": "stdout",
     "output_type": "stream",
     "text": [
      "{'amount': 10}\n",
      "Time Taken: 40.66952180862427 seconds\n"
     ]
    }
   ],
   "source": [
    "start_time = time.time()\n",
    "\n",
    "benchmark_objects = Benchmark.objects.defer('data')\n",
    "\n",
    "unique_databook_ids = set()\n",
    "for each_object in benchmark_objects:\n",
    "    unique_databook_ids.add(each_object.databook_id)\n",
    "    \n",
    "print(benchmark_objects[0].data)\n",
    "\n",
    "print('Time Taken: '+ str(time.time() - start_time) + ' seconds')"
   ]
  },
  {
   "cell_type": "markdown",
   "id": "82cccf71",
   "metadata": {},
   "source": [
    "### values - but applying it without selecting any columns."
   ]
  },
  {
   "cell_type": "code",
   "execution_count": 8,
   "id": "577f77dc",
   "metadata": {},
   "outputs": [
    {
     "name": "stdout",
     "output_type": "stream",
     "text": [
      "Time Taken: 38.55430889129639 seconds\n"
     ]
    }
   ],
   "source": [
    "start_time = time.time()\n",
    "\n",
    "benchmark_objects = Benchmark.objects.all().values()\n",
    "\n",
    "unique_databook_ids = set()\n",
    "for each_object in benchmark_objects:\n",
    "    unique_databook_ids.add(each_object['databook_id'])\n",
    "    \n",
    "\n",
    "print('Time Taken: '+ str(time.time() - start_time) + ' seconds')"
   ]
  },
  {
   "cell_type": "markdown",
   "id": "18d17283",
   "metadata": {},
   "source": [
    "### values - And selecting only the column we need"
   ]
  },
  {
   "cell_type": "code",
   "execution_count": 9,
   "id": "dfdd61a5",
   "metadata": {},
   "outputs": [
    {
     "name": "stdout",
     "output_type": "stream",
     "text": [
      "Exception: Data is not accessible here\n",
      "Time Taken: 10.518049955368042 seconds\n"
     ]
    }
   ],
   "source": [
    "start_time = time.time()\n",
    "\n",
    "benchmark_objects = Benchmark.objects.values('databook_id')\n",
    "\n",
    "unique_databook_ids = set()\n",
    "for each_object in benchmark_objects:\n",
    "    unique_databook_ids.add(each_object['databook_id'])\n",
    "    \n",
    "try:\n",
    "    print(benchmark_objects[0]['data'])\n",
    "except:\n",
    "    print('Exception: Data is not accessible here')\n",
    "                                                    \n",
    "print('Time Taken: '+ str(time.time() - start_time) + ' seconds')"
   ]
  },
  {
   "cell_type": "markdown",
   "id": "47e6b93b",
   "metadata": {},
   "source": [
    "### values_list - Fetching the single column with flat and converting it to set"
   ]
  },
  {
   "cell_type": "code",
   "execution_count": 10,
   "id": "b1a4cbe5",
   "metadata": {},
   "outputs": [
    {
     "name": "stdout",
     "output_type": "stream",
     "text": [
      "Time Taken: 6.727375030517578 seconds\n"
     ]
    }
   ],
   "source": [
    "start_time = time.time()\n",
    "\n",
    "unique_databook_ids = set(Benchmark.objects.values_list('databook_id',flat=True))\n",
    "\n",
    "print('Time Taken: '+ str(time.time() - start_time) + ' seconds')"
   ]
  },
  {
   "cell_type": "markdown",
   "id": "38fa4f5a",
   "metadata": {},
   "source": [
    "### values_list - Getting distinct value from the Query"
   ]
  },
  {
   "cell_type": "code",
   "execution_count": 11,
   "id": "a19a5789",
   "metadata": {},
   "outputs": [
    {
     "name": "stdout",
     "output_type": "stream",
     "text": [
      "Time Taken: 0.9716320037841797 seconds\n"
     ]
    }
   ],
   "source": [
    "start_time = time.time()\n",
    "\n",
    "unique_databook_ids = set(Benchmark.objects.values_list('databook_id',flat=True).distinct())\n",
    "\n",
    "\n",
    "print('Time Taken: '+ str(time.time() - start_time) + ' seconds')"
   ]
  },
  {
   "cell_type": "markdown",
   "id": "dd593093",
   "metadata": {},
   "source": [
    "## .count vs len()"
   ]
  },
  {
   "cell_type": "markdown",
   "id": "5a261b79",
   "metadata": {},
   "source": [
    "### Using Python's Vanilla len() function"
   ]
  },
  {
   "cell_type": "code",
   "execution_count": 12,
   "id": "40d27b50",
   "metadata": {},
   "outputs": [
    {
     "name": "stdout",
     "output_type": "stream",
     "text": [
      "32370\n",
      "Time Taken: 0.953031063079834 seconds\n"
     ]
    }
   ],
   "source": [
    "start_time = time.time()\n",
    "\n",
    "unique_databook_ids_length = len(set(Benchmark.objects.values_list('databook_id',flat=True).distinct()))\n",
    "print(unique_databook_ids_length)\n",
    "\n",
    "print('Time Taken: '+ str(time.time() - start_time) + ' seconds')"
   ]
  },
  {
   "cell_type": "markdown",
   "id": "60e2b185",
   "metadata": {},
   "source": [
    "### Using Django's .count() in Query"
   ]
  },
  {
   "cell_type": "code",
   "execution_count": 13,
   "id": "196a3666",
   "metadata": {},
   "outputs": [
    {
     "name": "stdout",
     "output_type": "stream",
     "text": [
      "32370\n",
      "Time Taken: 0.8960278034210205 seconds\n"
     ]
    }
   ],
   "source": [
    "start_time = time.time()\n",
    "\n",
    "unique_databook_ids_length = Benchmark.objects.values_list('databook_id',flat=True).distinct().count()\n",
    "print(unique_databook_ids_length)\n",
    "\n",
    "print('Time Taken: '+ str(time.time() - start_time) + ' seconds')"
   ]
  },
  {
   "cell_type": "markdown",
   "id": "722f7f22",
   "metadata": {},
   "source": [
    "## Objective: check whether databook_id and datasheet_id pair exist"
   ]
  },
  {
   "cell_type": "markdown",
   "id": "41dbdb42",
   "metadata": {},
   "source": [
    "### Fetching object and checking len > 0"
   ]
  },
  {
   "cell_type": "code",
   "execution_count": 14,
   "id": "736693b7",
   "metadata": {},
   "outputs": [
    {
     "name": "stdout",
     "output_type": "stream",
     "text": [
      "Yes, this object exist\n",
      "Time Taken: 0.29444074630737305 seconds\n"
     ]
    }
   ],
   "source": [
    "start_time = time.time()\n",
    "\n",
    "db_ds_objects = Benchmark.objects.filter(databook_id='61722a62-fe71-44df-86a5-477bcdfbd91c', datasheet_id='d065e9da-804c-4272-88a0-6e467a50573e')\n",
    "\n",
    "if len(db_ds_objects) > 0:\n",
    "    print('Yes, this object exist')\n",
    "\n",
    "\n",
    "print('Time Taken: '+ str(time.time() - start_time) + ' seconds')"
   ]
  },
  {
   "cell_type": "markdown",
   "id": "dc4237eb",
   "metadata": {},
   "source": [
    "### Checking with .count()"
   ]
  },
  {
   "cell_type": "code",
   "execution_count": 15,
   "id": "72423d53",
   "metadata": {
    "scrolled": true
   },
   "outputs": [
    {
     "name": "stdout",
     "output_type": "stream",
     "text": [
      "Yes, this object exist\n",
      "Time Taken: 0.29352283477783203 seconds\n"
     ]
    }
   ],
   "source": [
    "start_time = time.time()\n",
    "\n",
    "db_ds_objects = Benchmark.objects.filter(databook_id='61722a62-fe71-44df-86a5-477bcdfbd91c', datasheet_id='d065e9da-804c-4272-88a0-6e467a50573e').count()\n",
    "\n",
    "if db_ds_objects > 0:\n",
    "    print('Yes, this object exist')\n",
    "\n",
    "\n",
    "print('Time Taken: '+ str(time.time() - start_time) + ' seconds')"
   ]
  },
  {
   "cell_type": "markdown",
   "id": "32933ef7",
   "metadata": {},
   "source": [
    "### Using .exist() function"
   ]
  },
  {
   "cell_type": "code",
   "execution_count": 16,
   "id": "51c522c7",
   "metadata": {},
   "outputs": [
    {
     "name": "stdout",
     "output_type": "stream",
     "text": [
      "Yes, this object exist\n",
      "Time Taken: 0.07770609855651855 seconds\n"
     ]
    }
   ],
   "source": [
    "start_time = time.time()\n",
    "\n",
    "db_ds_objects = Benchmark.objects.filter(databook_id='61722a62-fe71-44df-86a5-477bcdfbd91c', datasheet_id='d065e9da-804c-4272-88a0-6e467a50573e').exists()\n",
    "\n",
    "if db_ds_objects:\n",
    "    print('Yes, this object exist')\n",
    "\n",
    "\n",
    "print('Time Taken: '+ str(time.time() - start_time) + ' seconds')"
   ]
  },
  {
   "cell_type": "markdown",
   "id": "91537f21",
   "metadata": {},
   "source": [
    "### Objective: Count records with Databook_id = X or Datasheet_Id = Y but not the records where both conditions satisfies simultaneously."
   ]
  },
  {
   "cell_type": "markdown",
   "id": "c78c0cbd",
   "metadata": {},
   "source": [
    "### Double Query and Filter"
   ]
  },
  {
   "cell_type": "code",
   "execution_count": 17,
   "id": "3c66efaa",
   "metadata": {},
   "outputs": [
    {
     "name": "stdout",
     "output_type": "stream",
     "text": [
      "35\n",
      "Time Taken: 0.5853922367095947 seconds\n"
     ]
    }
   ],
   "source": [
    "start_time = time.time()\n",
    "\n",
    "databook_condition_objs = Benchmark.objects.filter(\n",
    "    databook_id=\"61722a62-fe71-44df-86a5-477bcdfbd91c\"\n",
    ")\n",
    "datasheet_condition_objs = Benchmark.objects.filter(\n",
    "    datasheet_id=\"5044b179-ddf1-4305-8473-dae5e5e0ff91\"\n",
    ")\n",
    "combined_objects_before_check = []\n",
    "\n",
    "for each_object in databook_condition_objs:\n",
    "    combined_objects_before_check.append(each_object)\n",
    "\n",
    "for each_object in datasheet_condition_objs:\n",
    "    combined_objects_before_check.append(each_object)\n",
    "\n",
    "combined_objects_after_check = []\n",
    "\n",
    "for each_object in combined_objects_before_check:\n",
    "    if not (\n",
    "        each_object.databook_id == \"61722a62-fe71-44df-86a5-477bcdfbd91c\"\n",
    "        and each_object.datasheet_id == \"5044b179-ddf1-4305-8473-dae5e5e0ff91\"\n",
    "    ):\n",
    "        combined_objects_after_check.append(each_object)\n",
    "\n",
    "print(len(combined_objects_after_check))\n",
    "\n",
    "print(\"Time Taken: \" + str(time.time() - start_time) + \" seconds\")\n"
   ]
  },
  {
   "cell_type": "markdown",
   "id": "64b0943e",
   "metadata": {},
   "source": [
    "### Using Q objects"
   ]
  },
  {
   "cell_type": "code",
   "execution_count": 18,
   "id": "170c811d",
   "metadata": {},
   "outputs": [
    {
     "name": "stdout",
     "output_type": "stream",
     "text": [
      "35\n",
      "Time Taken: 0.3725588321685791 seconds\n"
     ]
    }
   ],
   "source": [
    "\n",
    "start_time = time.time()\n",
    "\n",
    "databook_condition = Q(databook_id=\"61722a62-fe71-44df-86a5-477bcdfbd91c\")\n",
    "datasheet_condition = Q(datasheet_id=\"5044b179-ddf1-4305-8473-dae5e5e0ff91\")\n",
    "both_condition = Q(databook_id=\"61722a62-fe71-44df-86a5-477bcdfbd91c\") & Q(\n",
    "    datasheet_id=\"5044b179-ddf1-4305-8473-dae5e5e0ff91\"\n",
    ")\n",
    "\n",
    "combined_objects_after_check = Benchmark.objects.filter(\n",
    "    (databook_condition | datasheet_condition) & ~both_condition\n",
    ").count()\n",
    "print(combined_objects_after_check)\n",
    "\n",
    "\n",
    "print(\"Time Taken: \" + str(time.time() - start_time) + \" seconds\")\n"
   ]
  },
  {
   "cell_type": "markdown",
   "id": "03d24134",
   "metadata": {},
   "source": [
    "### Note: Q Objects precedence should be higher than other filters, other wise the query is invalid"
   ]
  },
  {
   "cell_type": "code",
   "execution_count": 19,
   "id": "25d6b056",
   "metadata": {},
   "outputs": [
    {
     "data": {
      "text/plain": [
       "<QuerySet [<Benchmark: Benchmark object (523153)>, <Benchmark: Benchmark object (523154)>]>"
      ]
     },
     "execution_count": 19,
     "metadata": {},
     "output_type": "execute_result"
    }
   ],
   "source": [
    "Benchmark.objects.filter(\n",
    "    Q(databook_id=\"61722a62-fe71-44df-86a5-477bcdfbd91c\"),\n",
    "    datasheet_id=\"d065e9da-804c-4272-88a0-6e467a50573e\",\n",
    ")\n",
    "## this is simply AND condition and VALID QUERY"
   ]
  },
  {
   "cell_type": "code",
   "execution_count": 20,
   "id": "e4055706",
   "metadata": {},
   "outputs": [
    {
     "ename": "SyntaxError",
     "evalue": "positional argument follows keyword argument (713771487.py, line 4)",
     "output_type": "error",
     "traceback": [
      "\u001b[0;36m  Input \u001b[0;32mIn [20]\u001b[0;36m\u001b[0m\n\u001b[0;31m    )\u001b[0m\n\u001b[0m    ^\u001b[0m\n\u001b[0;31mSyntaxError\u001b[0m\u001b[0;31m:\u001b[0m positional argument follows keyword argument\n"
     ]
    }
   ],
   "source": [
    "Benchmark.objects.filter(\n",
    "    datasheet_id=\"d065e9da-804c-4272-88a0-6e467a50573e\",\n",
    "    Q(databook_id=\"61722a62-fe71-44df-86a5-477bcdfbd91c\"),\n",
    ")  \n",
    "### ERROR"
   ]
  },
  {
   "cell_type": "markdown",
   "id": "b1e47e1d",
   "metadata": {},
   "source": [
    "### Objective: Updating Objects depending on the data in the table. Set Knowledge_end_date = knowledge_begin_date + 10 days."
   ]
  },
  {
   "cell_type": "markdown",
   "id": "6e3a07b9",
   "metadata": {},
   "source": [
    "### Two things,\n",
    "### 1. Iterate the objects, get knowledge_begin_date, add 10 days to it and call .save() method\n",
    "### 2. Iterate the objects, get knowledge_begin_date, add 10 days to it, store it in list and call bulk_update method\n"
   ]
  },
  {
   "cell_type": "markdown",
   "id": "70beff1d",
   "metadata": {},
   "source": [
    "### Iterating and calling .save"
   ]
  },
  {
   "cell_type": "code",
   "execution_count": 21,
   "id": "4f981d3c",
   "metadata": {},
   "outputs": [
    {
     "name": "stdout",
     "output_type": "stream",
     "text": [
      "Time Taken: 0.2963268756866455 seconds\n"
     ]
    }
   ],
   "source": [
    "start_time = time.time()\n",
    "\n",
    "objects = Benchmark.objects.filter(datasheet_id=\"d065e9da-804c-4272-88a0-6e467a50573e\")\n",
    "for each_object in objects:\n",
    "    each_object.knowledge_end_date = each_object.knowledge_begin_date + timedelta(days=10)\n",
    "    each_object.save()\n",
    "\n",
    "print(\"Time Taken: \" + str(time.time() - start_time) + \" seconds\")"
   ]
  },
  {
   "cell_type": "markdown",
   "id": "6d34efec",
   "metadata": {},
   "source": [
    "### Using F()"
   ]
  },
  {
   "cell_type": "code",
   "execution_count": 22,
   "id": "2ed6843d",
   "metadata": {},
   "outputs": [
    {
     "name": "stdout",
     "output_type": "stream",
     "text": [
      "Time Taken: 0.29288220405578613 seconds\n"
     ]
    }
   ],
   "source": [
    "start_time = time.time()\n",
    "\n",
    "Benchmark.objects.filter(\n",
    "    datasheet_id=\"d065e9da-804c-4272-88a0-6e467a50573e\",\n",
    ").update(knowledge_end_date = F('knowledge_begin_date') + timedelta(days=10))\n",
    "\n",
    "print(\"Time Taken: \" + str(time.time() - start_time) + \" seconds\")"
   ]
  },
  {
   "cell_type": "markdown",
   "id": "c64fc739",
   "metadata": {},
   "source": [
    "#### Things to Note:\n",
    "  #### 1.  Avoiding Race Condition in F()\n",
    "  #### 2. Single Query Instead of Querying and Saving every single time."
   ]
  },
  {
   "cell_type": "markdown",
   "id": "2530ad6d",
   "metadata": {},
   "source": [
    "## Use .iterator if the number of objects to fetch large"
   ]
  },
  {
   "cell_type": "markdown",
   "id": "e203b484",
   "metadata": {},
   "source": [
    "### Fetching all the objects"
   ]
  },
  {
   "cell_type": "code",
   "execution_count": 29,
   "id": "4e8fa159",
   "metadata": {},
   "outputs": [
    {
     "name": "stdout",
     "output_type": "stream",
     "text": [
      "266220\n",
      "Time Taken: 9.415884017944336 seconds\n"
     ]
    }
   ],
   "source": [
    "start_time = time.time()\n",
    "\n",
    "databook_id = set()\n",
    "benchmark_objects = Benchmark.objects.all().values('databook_id')\n",
    "for obj in benchmark_objects:\n",
    "    databook_ids.add(obj['databook_id'])\n",
    "\n",
    "\n",
    "print(len(databook_ids))\n",
    "print(\"Time Taken: \" + str(time.time() - start_time) + \" seconds\")"
   ]
  },
  {
   "cell_type": "markdown",
   "id": "41fbd1db",
   "metadata": {},
   "source": [
    "### Fetching chunked records through Iterator"
   ]
  },
  {
   "cell_type": "code",
   "execution_count": 24,
   "id": "7cf65ea4",
   "metadata": {},
   "outputs": [
    {
     "name": "stdout",
     "output_type": "stream",
     "text": [
      "32370\n",
      "Time Taken: 6.472586154937744 seconds\n"
     ]
    }
   ],
   "source": [
    "start_time = time.time()\n",
    "\n",
    "databook_ids = set()\n",
    "benchmark_objects = Benchmark.objects.all().values('databook_id').iterator(chunk_size=2000)\n",
    "for obj in benchmark_objects:\n",
    "    databook_ids.add(obj['databook_id'])\n",
    "\n",
    "print(len(databook_ids))\n",
    "print(\"Time Taken: \" + str(time.time() - start_time) + \" seconds\")"
   ]
  },
  {
   "cell_type": "markdown",
   "id": "670e75d1",
   "metadata": {},
   "source": [
    "### Use litreal syntax for declarling list, set, tuple and dictionary"
   ]
  },
  {
   "cell_type": "code",
   "execution_count": 30,
   "id": "90e3539f",
   "metadata": {},
   "outputs": [
    {
     "name": "stdout",
     "output_type": "stream",
     "text": [
      "Time Taken: 1.2021896839141846 seconds\n"
     ]
    }
   ],
   "source": [
    "start_time = time.time()\n",
    "\n",
    "for i in range(10**7):\n",
    "    l=list() \n",
    "\n",
    "print(\"Time Taken: \" + str(time.time() - start_time) + \" seconds\")"
   ]
  },
  {
   "cell_type": "code",
   "execution_count": 31,
   "id": "a59ea3db",
   "metadata": {},
   "outputs": [
    {
     "name": "stdout",
     "output_type": "stream",
     "text": [
      "Time Taken: 0.6270980834960938 seconds\n"
     ]
    }
   ],
   "source": [
    "start_time = time.time()\n",
    "\n",
    "for i in range(10**7):\n",
    "    l=[]\n",
    "\n",
    "\n",
    "print(\"Time Taken: \" + str(time.time() - start_time) + \" seconds\")"
   ]
  },
  {
   "cell_type": "markdown",
   "id": "4db3671b",
   "metadata": {},
   "source": [
    "### Check truthness of object without length"
   ]
  },
  {
   "cell_type": "code",
   "execution_count": 32,
   "id": "fd410ce0",
   "metadata": {},
   "outputs": [],
   "source": [
    "large_list = [i for i in range(10**2)]\n",
    "\n",
    "if large_list: pass ## Prefer this\n",
    "    \n",
    "if len(large_list) > 0: pass ## over this.\n"
   ]
  },
  {
   "cell_type": "code",
   "execution_count": null,
   "id": "06dde965",
   "metadata": {},
   "outputs": [],
   "source": []
  }
 ],
 "metadata": {
  "kernelspec": {
   "display_name": "Python 3 (ipykernel)",
   "language": "python",
   "name": "python3"
  },
  "language_info": {
   "codemirror_mode": {
    "name": "ipython",
    "version": 3
   },
   "file_extension": ".py",
   "mimetype": "text/x-python",
   "name": "python",
   "nbconvert_exporter": "python",
   "pygments_lexer": "ipython3",
   "version": "3.9.9"
  }
 },
 "nbformat": 4,
 "nbformat_minor": 5
}
